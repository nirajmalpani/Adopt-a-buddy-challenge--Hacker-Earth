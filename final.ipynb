{
 "cells": [
  {
   "cell_type": "code",
   "execution_count": 56,
   "metadata": {},
   "outputs": [],
   "source": [
    "import pandas as pd\n",
    "from sklearn.ensemble import VotingClassifier \n",
    "import numpy as np"
   ]
  },
  {
   "cell_type": "code",
   "execution_count": 57,
   "metadata": {},
   "outputs": [],
   "source": [
    "t1=pd.read_csv(\"train.csv\")"
   ]
  },
  {
   "cell_type": "code",
   "execution_count": 58,
   "metadata": {},
   "outputs": [
    {
     "data": {
      "text/html": [
       "<div>\n",
       "<style scoped>\n",
       "    .dataframe tbody tr th:only-of-type {\n",
       "        vertical-align: middle;\n",
       "    }\n",
       "\n",
       "    .dataframe tbody tr th {\n",
       "        vertical-align: top;\n",
       "    }\n",
       "\n",
       "    .dataframe thead th {\n",
       "        text-align: right;\n",
       "    }\n",
       "</style>\n",
       "<table border=\"1\" class=\"dataframe\">\n",
       "  <thead>\n",
       "    <tr style=\"text-align: right;\">\n",
       "      <th></th>\n",
       "      <th>pet_id</th>\n",
       "      <th>issue_date</th>\n",
       "      <th>listing_date</th>\n",
       "      <th>condition</th>\n",
       "      <th>color_type</th>\n",
       "      <th>length(m)</th>\n",
       "      <th>height(cm)</th>\n",
       "      <th>X1</th>\n",
       "      <th>X2</th>\n",
       "      <th>breed_category</th>\n",
       "      <th>pet_category</th>\n",
       "    </tr>\n",
       "  </thead>\n",
       "  <tbody>\n",
       "    <tr>\n",
       "      <th>0</th>\n",
       "      <td>ANSL_69903</td>\n",
       "      <td>2016-07-10</td>\n",
       "      <td>2016-09-21</td>\n",
       "      <td>2.0</td>\n",
       "      <td>Brown Tabby</td>\n",
       "      <td>0.80</td>\n",
       "      <td>7.78</td>\n",
       "      <td>13</td>\n",
       "      <td>9</td>\n",
       "      <td>0.0</td>\n",
       "      <td>1</td>\n",
       "    </tr>\n",
       "    <tr>\n",
       "      <th>1</th>\n",
       "      <td>ANSL_66892</td>\n",
       "      <td>2013-11-21</td>\n",
       "      <td>2018-12-27</td>\n",
       "      <td>1.0</td>\n",
       "      <td>White</td>\n",
       "      <td>0.72</td>\n",
       "      <td>14.19</td>\n",
       "      <td>13</td>\n",
       "      <td>9</td>\n",
       "      <td>0.0</td>\n",
       "      <td>2</td>\n",
       "    </tr>\n",
       "    <tr>\n",
       "      <th>2</th>\n",
       "      <td>ANSL_69750</td>\n",
       "      <td>2014-09-28</td>\n",
       "      <td>2016-10-19</td>\n",
       "      <td>NaN</td>\n",
       "      <td>Brown</td>\n",
       "      <td>0.15</td>\n",
       "      <td>40.90</td>\n",
       "      <td>15</td>\n",
       "      <td>4</td>\n",
       "      <td>2.0</td>\n",
       "      <td>4</td>\n",
       "    </tr>\n",
       "    <tr>\n",
       "      <th>3</th>\n",
       "      <td>ANSL_71623</td>\n",
       "      <td>2016-12-31</td>\n",
       "      <td>2019-01-25</td>\n",
       "      <td>1.0</td>\n",
       "      <td>White</td>\n",
       "      <td>0.62</td>\n",
       "      <td>17.82</td>\n",
       "      <td>0</td>\n",
       "      <td>1</td>\n",
       "      <td>0.0</td>\n",
       "      <td>2</td>\n",
       "    </tr>\n",
       "    <tr>\n",
       "      <th>4</th>\n",
       "      <td>ANSL_57969</td>\n",
       "      <td>2017-09-28</td>\n",
       "      <td>2017-11-19</td>\n",
       "      <td>2.0</td>\n",
       "      <td>Black</td>\n",
       "      <td>0.50</td>\n",
       "      <td>11.06</td>\n",
       "      <td>18</td>\n",
       "      <td>4</td>\n",
       "      <td>0.0</td>\n",
       "      <td>1</td>\n",
       "    </tr>\n",
       "  </tbody>\n",
       "</table>\n",
       "</div>"
      ],
      "text/plain": [
       "       pet_id  issue_date listing_date  condition   color_type  length(m)  \\\n",
       "0  ANSL_69903  2016-07-10   2016-09-21        2.0  Brown Tabby       0.80   \n",
       "1  ANSL_66892  2013-11-21   2018-12-27        1.0        White       0.72   \n",
       "2  ANSL_69750  2014-09-28   2016-10-19        NaN        Brown       0.15   \n",
       "3  ANSL_71623  2016-12-31   2019-01-25        1.0        White       0.62   \n",
       "4  ANSL_57969  2017-09-28   2017-11-19        2.0        Black       0.50   \n",
       "\n",
       "   height(cm)  X1  X2  breed_category  pet_category  \n",
       "0        7.78  13   9             0.0             1  \n",
       "1       14.19  13   9             0.0             2  \n",
       "2       40.90  15   4             2.0             4  \n",
       "3       17.82   0   1             0.0             2  \n",
       "4       11.06  18   4             0.0             1  "
      ]
     },
     "execution_count": 58,
     "metadata": {},
     "output_type": "execute_result"
    }
   ],
   "source": [
    "from datetime import datetime\n",
    "def changeformat(y):\n",
    "    x=datetime.strptime(y, '%Y-%m-%d %H:%M:%S').strftime('%Y-%m-%d')\n",
    "    return x\n",
    "t1['issue_date']=t1['issue_date'].apply(lambda x : changeformat(x))\n",
    "t1['listing_date']=t1['listing_date'].apply(lambda x: changeformat(x))\n",
    "\n",
    "\n",
    "t1.head()"
   ]
  },
  {
   "cell_type": "code",
   "execution_count": 59,
   "metadata": {},
   "outputs": [],
   "source": [
    "from datetime import date\n",
    "t1['date'] = pd.to_datetime(t1['issue_date'])\n",
    "t1['date1']=pd.to_datetime(t1['listing_date'])"
   ]
  },
  {
   "cell_type": "code",
   "execution_count": 60,
   "metadata": {},
   "outputs": [],
   "source": [
    "t1['lyear']=pd.DatetimeIndex(t1['date1']).year\n",
    "t1['year']=pd.DatetimeIndex(t1['date']).year\n",
    "t1['lmonth']=pd.DatetimeIndex(t1['date1']).month\n",
    "t1['month']=pd.DatetimeIndex(t1['date']).month\n",
    "t1['lday']=pd.DatetimeIndex(t1['date1']).day\n",
    "t1['day']=pd.DatetimeIndex(t1['date']).day"
   ]
  },
  {
   "cell_type": "code",
   "execution_count": 61,
   "metadata": {},
   "outputs": [],
   "source": [
    "import datetime \n",
    "import calendar \n",
    "  \n",
    "def findDay(date): \n",
    "    born = datetime.datetime.strptime((date), '%Y-%m-%d').weekday() \n",
    "    return (calendar.day_name[born])"
   ]
  },
  {
   "cell_type": "code",
   "execution_count": 62,
   "metadata": {},
   "outputs": [],
   "source": [
    "t1['weekend']=t1['issue_date'].apply(lambda x: findDay(x))\n",
    "t1['lweekend']=t1['listing_date'].apply(lambda x : findDay(x))\n",
    "\n",
    "def check(day):\n",
    "    days=['Sunday','Saturday']\n",
    "    if day in days:\n",
    "        return 1\n",
    "    else:\n",
    "        return 0\n",
    "t1['weekend']=t1['weekend'].apply(lambda x: check(x))\n",
    "t1['lweekend']=t1['lweekend'].apply(lambda x : check(x))"
   ]
  },
  {
   "cell_type": "code",
   "execution_count": 63,
   "metadata": {},
   "outputs": [],
   "source": [
    "def changecolor(i):\n",
    "    m1=['Brown','Black','Tricolor','Calico','Blue','Tortie', 'Gray','Torbie','Sable', 'Chocolate','Green','Buff','Red','Tan', 'Orange','Gold', \n",
    "      'Apricot','Liver', 'Agouti','Yellow', 'Pink','White', 'Fawn','Cream', 'Silver',]\n",
    "    m2=['Brown Tabby','Brown Brindle','Blue Tick','Blue Tabby', 'Black Tabby','Orange Tabby', 'Red Merle', 'Yellow Brindle','Red Tick',  'Liver Tick',\n",
    "       'Black Brindle','Calico Point','Blue Merle', 'Blue Tiger','Seal Point',  'Brown Merle', 'Black Smoke',\n",
    "       'Gray Tabby', 'Tortie Point', 'Blue Smoke', 'Blue Point', 'Brown Tiger','Chocolate Point','Cream Tabby','Lynx Point', 'Blue Cream',\n",
    "       'Flame Point', 'Silver Tabby','Lilac Point','Silver Lynx Point']\n",
    "    if i in m1:\n",
    "        return 1\n",
    "    else:\n",
    "        return 0\n",
    "t1['color']=t1['color_type'].apply(lambda x : changecolor(x))"
   ]
  },
  {
   "cell_type": "code",
   "execution_count": 64,
   "metadata": {},
   "outputs": [],
   "source": [
    "t1['condition'].fillna(-1,inplace=True)"
   ]
  },
  {
   "cell_type": "code",
   "execution_count": 65,
   "metadata": {},
   "outputs": [],
   "source": [
    "def changecol(i):\n",
    "    black=['Brown Tabby', 'White', 'Brown', 'Black', 'Red','Brown Tiger', 'Liver', 'Agouti', 'Chocolate Point', 'Liver Tick',\n",
    "       'Pink', 'Black Tiger', 'Silver Lynx Point', 'Lilac Point', 'Silver', 'Silver Tabby']\n",
    "    red=[ 'Tricolor',\n",
    "       'Calico', 'Brown Brindle', 'Blue', 'Tortie', 'Gray', 'Fawn',\n",
    "       'Buff', 'Torbie', 'Orange Tabby', 'Sable', 'Tan', 'Blue Tick',\n",
    "       'Orange', 'Blue Tabby', 'Chocolate']\n",
    "    white=['Black Tabby',\n",
    "       'Black Brindle', 'Cream Tabby', 'Gold', 'Calico Point',\n",
    "       'Blue Merle', 'Red Merle', 'Yellow', 'Lynx Point', 'Blue Cream',\n",
    "       'Flame Point', 'Cream', 'Yellow Brindle', 'Blue Tiger',\n",
    "       'Seal Point', 'Red Tick', 'Brown Merle', 'Black Smoke',\n",
    "       'Gray Tabby', 'Green', 'Tortie Point', 'Blue Smoke', 'Apricot',\n",
    "       'Blue Point']\n",
    "    if i in black:\n",
    "        return 2\n",
    "    if i in red:\n",
    "        return 1\n",
    "    if i in white:\n",
    "        return 0\n",
    "    \n",
    "t1['color_type']=t1['color_type'].apply(lambda x : changecol(x))"
   ]
  },
  {
   "cell_type": "code",
   "execution_count": 66,
   "metadata": {},
   "outputs": [],
   "source": [
    "d1=t1.color_type[t1['breed_category']==1].unique()\n",
    "d2=t1.color_type[t1['breed_category']==2].unique()\n",
    "d3=t1.color_type[t1['breed_category']==0].unique()\n",
    "len(d3)\n",
    "d4=[]\n",
    "for i in d1:\n",
    "    if i not in d3:\n",
    "        d4.append(i)\n",
    "d5=[]\n",
    "for i in d3:\n",
    "    if i not in  d2:\n",
    "        d5.append(i)\n",
    "p1=t1.color_type[t1['pet_category']==1].unique()\n",
    "p4=t1.color_type[t1['pet_category']==4].unique()\n",
    "p2=t1.color_type[t1['pet_category']==2].unique()\n",
    "p0=t1.color_type[t1['pet_category']==0].unique()\n",
    "len(p1)\n",
    "p5=[]\n",
    "for i in p2:\n",
    "    if i not in p1:\n",
    "        p5.append(i)\n",
    "len(p5)\n",
    "p6=[]\n",
    "for i in p1:\n",
    "    if i not in p4:\n",
    "        p6.append(i)\n",
    "p7=[]\n",
    "for i in p2:\n",
    "    if i not in p4:\n",
    "        p7.append(i)\n",
    "p8=[]\n",
    "for i in p1:\n",
    "    if i not in p0:\n",
    "        p8.append(i)\n",
    "\n",
    "def E11(x):\n",
    "    if x in p0:\n",
    "        return 1\n",
    "    else:\n",
    "        return 0\n",
    "def E12(x):\n",
    "    if x in p5:\n",
    "        return 1\n",
    "    else:\n",
    "        return 0\n",
    "def E13(x):\n",
    "    if x in p6:\n",
    "        return 1\n",
    "    else:\n",
    "        return 0\n",
    "def E15(x):\n",
    "    if x in p7:\n",
    "        return 1\n",
    "    else:\n",
    "        return 0\n",
    "def E16(x):\n",
    "    if x in p1:\n",
    "        return 1\n",
    "    else:\n",
    "        return 0\n",
    "def D11(x):\n",
    "    if x in d4:\n",
    "        return 1\n",
    "    else:\n",
    "        return 0\n",
    "def D12(x):\n",
    "    if x in d5:\n",
    "        return 1\n",
    "    else:\n",
    "        return 0\n",
    "def E14(x):\n",
    "    if x in p4:\n",
    "        return 1\n",
    "    else:\n",
    "        return 0\n",
    "def D13(x):\n",
    "    if x in d2:\n",
    "        return 1\n",
    "    else:\n",
    "        return 0\n",
    "def E18(x):\n",
    "    if x in p8:\n",
    "        return 1\n",
    "    else:\n",
    "        return 0"
   ]
  },
  {
   "cell_type": "code",
   "execution_count": 67,
   "metadata": {},
   "outputs": [],
   "source": [
    "#t1['E1']=t1['color_type'].apply(lambda x : E11(x))\n",
    "t1['E2']=t1['color_type'].apply(lambda x: E12(x))\n",
    "t1['E3']=t1['color_type'].apply(lambda x: E13(x))\n",
    "#t1['E4']=t1['color_type'].apply(lambda x:E14(x))\n",
    "#t1['E5']=t1['color_type'].apply(lambda x:E15(x))\n",
    "#t1['E6']=t1['color_type'].apply(lambda x: E16(x))\n",
    "#t1['E8']=t1['color_type'].apply(lambda x: E18(x))\n",
    "#t1['D1']=t1['color_type'].apply(lambda x: D11(x))\n",
    "#t1['D2']=t1['color_type'].apply(lambda x: D12(x))\n",
    "#t1['D3']=t1['color_type'].apply(lambda x: D13(x))"
   ]
  },
  {
   "cell_type": "code",
   "execution_count": 68,
   "metadata": {},
   "outputs": [],
   "source": [
    "df=t1.drop(['pet_id', 'issue_date', 'listing_date',\n",
    "       'date', 'date1'],axis=1)"
   ]
  },
  {
   "cell_type": "code",
   "execution_count": 69,
   "metadata": {},
   "outputs": [
    {
     "data": {
      "text/html": [
       "<div>\n",
       "<style scoped>\n",
       "    .dataframe tbody tr th:only-of-type {\n",
       "        vertical-align: middle;\n",
       "    }\n",
       "\n",
       "    .dataframe tbody tr th {\n",
       "        vertical-align: top;\n",
       "    }\n",
       "\n",
       "    .dataframe thead th {\n",
       "        text-align: right;\n",
       "    }\n",
       "</style>\n",
       "<table border=\"1\" class=\"dataframe\">\n",
       "  <thead>\n",
       "    <tr style=\"text-align: right;\">\n",
       "      <th></th>\n",
       "      <th>condition</th>\n",
       "      <th>color_type</th>\n",
       "      <th>length(m)</th>\n",
       "      <th>height(cm)</th>\n",
       "      <th>X1</th>\n",
       "      <th>X2</th>\n",
       "      <th>breed_category</th>\n",
       "      <th>pet_category</th>\n",
       "      <th>lyear</th>\n",
       "      <th>year</th>\n",
       "      <th>lmonth</th>\n",
       "      <th>month</th>\n",
       "      <th>lday</th>\n",
       "      <th>day</th>\n",
       "      <th>weekend</th>\n",
       "      <th>lweekend</th>\n",
       "      <th>color</th>\n",
       "      <th>E2</th>\n",
       "      <th>E3</th>\n",
       "    </tr>\n",
       "  </thead>\n",
       "  <tbody>\n",
       "    <tr>\n",
       "      <th>0</th>\n",
       "      <td>2.0</td>\n",
       "      <td>2</td>\n",
       "      <td>0.80</td>\n",
       "      <td>7.78</td>\n",
       "      <td>13</td>\n",
       "      <td>9</td>\n",
       "      <td>0.0</td>\n",
       "      <td>1</td>\n",
       "      <td>2016</td>\n",
       "      <td>2016</td>\n",
       "      <td>9</td>\n",
       "      <td>7</td>\n",
       "      <td>21</td>\n",
       "      <td>10</td>\n",
       "      <td>1</td>\n",
       "      <td>0</td>\n",
       "      <td>0</td>\n",
       "      <td>0</td>\n",
       "      <td>0</td>\n",
       "    </tr>\n",
       "    <tr>\n",
       "      <th>1</th>\n",
       "      <td>1.0</td>\n",
       "      <td>2</td>\n",
       "      <td>0.72</td>\n",
       "      <td>14.19</td>\n",
       "      <td>13</td>\n",
       "      <td>9</td>\n",
       "      <td>0.0</td>\n",
       "      <td>2</td>\n",
       "      <td>2018</td>\n",
       "      <td>2013</td>\n",
       "      <td>12</td>\n",
       "      <td>11</td>\n",
       "      <td>27</td>\n",
       "      <td>21</td>\n",
       "      <td>0</td>\n",
       "      <td>0</td>\n",
       "      <td>1</td>\n",
       "      <td>0</td>\n",
       "      <td>0</td>\n",
       "    </tr>\n",
       "    <tr>\n",
       "      <th>2</th>\n",
       "      <td>-1.0</td>\n",
       "      <td>2</td>\n",
       "      <td>0.15</td>\n",
       "      <td>40.90</td>\n",
       "      <td>15</td>\n",
       "      <td>4</td>\n",
       "      <td>2.0</td>\n",
       "      <td>4</td>\n",
       "      <td>2016</td>\n",
       "      <td>2014</td>\n",
       "      <td>10</td>\n",
       "      <td>9</td>\n",
       "      <td>19</td>\n",
       "      <td>28</td>\n",
       "      <td>1</td>\n",
       "      <td>0</td>\n",
       "      <td>1</td>\n",
       "      <td>0</td>\n",
       "      <td>0</td>\n",
       "    </tr>\n",
       "    <tr>\n",
       "      <th>3</th>\n",
       "      <td>1.0</td>\n",
       "      <td>2</td>\n",
       "      <td>0.62</td>\n",
       "      <td>17.82</td>\n",
       "      <td>0</td>\n",
       "      <td>1</td>\n",
       "      <td>0.0</td>\n",
       "      <td>2</td>\n",
       "      <td>2019</td>\n",
       "      <td>2016</td>\n",
       "      <td>1</td>\n",
       "      <td>12</td>\n",
       "      <td>25</td>\n",
       "      <td>31</td>\n",
       "      <td>1</td>\n",
       "      <td>0</td>\n",
       "      <td>1</td>\n",
       "      <td>0</td>\n",
       "      <td>0</td>\n",
       "    </tr>\n",
       "    <tr>\n",
       "      <th>4</th>\n",
       "      <td>2.0</td>\n",
       "      <td>2</td>\n",
       "      <td>0.50</td>\n",
       "      <td>11.06</td>\n",
       "      <td>18</td>\n",
       "      <td>4</td>\n",
       "      <td>0.0</td>\n",
       "      <td>1</td>\n",
       "      <td>2017</td>\n",
       "      <td>2017</td>\n",
       "      <td>11</td>\n",
       "      <td>9</td>\n",
       "      <td>19</td>\n",
       "      <td>28</td>\n",
       "      <td>0</td>\n",
       "      <td>1</td>\n",
       "      <td>1</td>\n",
       "      <td>0</td>\n",
       "      <td>0</td>\n",
       "    </tr>\n",
       "  </tbody>\n",
       "</table>\n",
       "</div>"
      ],
      "text/plain": [
       "   condition  color_type  length(m)  height(cm)  X1  X2  breed_category  \\\n",
       "0        2.0           2       0.80        7.78  13   9             0.0   \n",
       "1        1.0           2       0.72       14.19  13   9             0.0   \n",
       "2       -1.0           2       0.15       40.90  15   4             2.0   \n",
       "3        1.0           2       0.62       17.82   0   1             0.0   \n",
       "4        2.0           2       0.50       11.06  18   4             0.0   \n",
       "\n",
       "   pet_category  lyear  year  lmonth  month  lday  day  weekend  lweekend  \\\n",
       "0             1   2016  2016       9      7    21   10        1         0   \n",
       "1             2   2018  2013      12     11    27   21        0         0   \n",
       "2             4   2016  2014      10      9    19   28        1         0   \n",
       "3             2   2019  2016       1     12    25   31        1         0   \n",
       "4             1   2017  2017      11      9    19   28        0         1   \n",
       "\n",
       "   color  E2  E3  \n",
       "0      0   0   0  \n",
       "1      1   0   0  \n",
       "2      1   0   0  \n",
       "3      1   0   0  \n",
       "4      1   0   0  "
      ]
     },
     "execution_count": 69,
     "metadata": {},
     "output_type": "execute_result"
    }
   ],
   "source": [
    "df.head()"
   ]
  },
  {
   "cell_type": "code",
   "execution_count": 70,
   "metadata": {},
   "outputs": [
    {
     "data": {
      "text/html": [
       "<div>\n",
       "<style scoped>\n",
       "    .dataframe tbody tr th:only-of-type {\n",
       "        vertical-align: middle;\n",
       "    }\n",
       "\n",
       "    .dataframe tbody tr th {\n",
       "        vertical-align: top;\n",
       "    }\n",
       "\n",
       "    .dataframe thead th {\n",
       "        text-align: right;\n",
       "    }\n",
       "</style>\n",
       "<table border=\"1\" class=\"dataframe\">\n",
       "  <thead>\n",
       "    <tr style=\"text-align: right;\">\n",
       "      <th></th>\n",
       "      <th>condition</th>\n",
       "      <th>color_type</th>\n",
       "      <th>length(m)</th>\n",
       "      <th>height(cm)</th>\n",
       "      <th>X1</th>\n",
       "      <th>X2</th>\n",
       "      <th>breed_category</th>\n",
       "      <th>pet_category</th>\n",
       "      <th>lyear</th>\n",
       "      <th>year</th>\n",
       "      <th>lmonth</th>\n",
       "      <th>month</th>\n",
       "      <th>lday</th>\n",
       "      <th>day</th>\n",
       "      <th>weekend</th>\n",
       "      <th>lweekend</th>\n",
       "      <th>color</th>\n",
       "      <th>E2</th>\n",
       "      <th>E3</th>\n",
       "    </tr>\n",
       "  </thead>\n",
       "  <tbody>\n",
       "    <tr>\n",
       "      <th>0</th>\n",
       "      <td>2.0</td>\n",
       "      <td>2</td>\n",
       "      <td>0.80</td>\n",
       "      <td>7.78</td>\n",
       "      <td>13</td>\n",
       "      <td>9</td>\n",
       "      <td>0.0</td>\n",
       "      <td>1</td>\n",
       "      <td>2016</td>\n",
       "      <td>2016</td>\n",
       "      <td>9</td>\n",
       "      <td>7</td>\n",
       "      <td>21</td>\n",
       "      <td>10</td>\n",
       "      <td>1</td>\n",
       "      <td>0</td>\n",
       "      <td>0</td>\n",
       "      <td>0</td>\n",
       "      <td>0</td>\n",
       "    </tr>\n",
       "    <tr>\n",
       "      <th>1</th>\n",
       "      <td>1.0</td>\n",
       "      <td>2</td>\n",
       "      <td>0.72</td>\n",
       "      <td>14.19</td>\n",
       "      <td>13</td>\n",
       "      <td>9</td>\n",
       "      <td>0.0</td>\n",
       "      <td>2</td>\n",
       "      <td>2018</td>\n",
       "      <td>2013</td>\n",
       "      <td>12</td>\n",
       "      <td>11</td>\n",
       "      <td>27</td>\n",
       "      <td>21</td>\n",
       "      <td>0</td>\n",
       "      <td>0</td>\n",
       "      <td>1</td>\n",
       "      <td>0</td>\n",
       "      <td>0</td>\n",
       "    </tr>\n",
       "    <tr>\n",
       "      <th>2</th>\n",
       "      <td>-1.0</td>\n",
       "      <td>2</td>\n",
       "      <td>0.15</td>\n",
       "      <td>40.90</td>\n",
       "      <td>15</td>\n",
       "      <td>4</td>\n",
       "      <td>2.0</td>\n",
       "      <td>4</td>\n",
       "      <td>2016</td>\n",
       "      <td>2014</td>\n",
       "      <td>10</td>\n",
       "      <td>9</td>\n",
       "      <td>19</td>\n",
       "      <td>28</td>\n",
       "      <td>1</td>\n",
       "      <td>0</td>\n",
       "      <td>1</td>\n",
       "      <td>0</td>\n",
       "      <td>0</td>\n",
       "    </tr>\n",
       "    <tr>\n",
       "      <th>3</th>\n",
       "      <td>1.0</td>\n",
       "      <td>2</td>\n",
       "      <td>0.62</td>\n",
       "      <td>17.82</td>\n",
       "      <td>0</td>\n",
       "      <td>1</td>\n",
       "      <td>0.0</td>\n",
       "      <td>2</td>\n",
       "      <td>2019</td>\n",
       "      <td>2016</td>\n",
       "      <td>1</td>\n",
       "      <td>12</td>\n",
       "      <td>25</td>\n",
       "      <td>31</td>\n",
       "      <td>1</td>\n",
       "      <td>0</td>\n",
       "      <td>1</td>\n",
       "      <td>0</td>\n",
       "      <td>0</td>\n",
       "    </tr>\n",
       "    <tr>\n",
       "      <th>4</th>\n",
       "      <td>2.0</td>\n",
       "      <td>2</td>\n",
       "      <td>0.50</td>\n",
       "      <td>11.06</td>\n",
       "      <td>18</td>\n",
       "      <td>4</td>\n",
       "      <td>0.0</td>\n",
       "      <td>1</td>\n",
       "      <td>2017</td>\n",
       "      <td>2017</td>\n",
       "      <td>11</td>\n",
       "      <td>9</td>\n",
       "      <td>19</td>\n",
       "      <td>28</td>\n",
       "      <td>0</td>\n",
       "      <td>1</td>\n",
       "      <td>1</td>\n",
       "      <td>0</td>\n",
       "      <td>0</td>\n",
       "    </tr>\n",
       "  </tbody>\n",
       "</table>\n",
       "</div>"
      ],
      "text/plain": [
       "   condition  color_type  length(m)  height(cm)  X1  X2  breed_category  \\\n",
       "0        2.0           2       0.80        7.78  13   9             0.0   \n",
       "1        1.0           2       0.72       14.19  13   9             0.0   \n",
       "2       -1.0           2       0.15       40.90  15   4             2.0   \n",
       "3        1.0           2       0.62       17.82   0   1             0.0   \n",
       "4        2.0           2       0.50       11.06  18   4             0.0   \n",
       "\n",
       "   pet_category  lyear  year  lmonth  month  lday  day  weekend  lweekend  \\\n",
       "0             1   2016  2016       9      7    21   10        1         0   \n",
       "1             2   2018  2013      12     11    27   21        0         0   \n",
       "2             4   2016  2014      10      9    19   28        1         0   \n",
       "3             2   2019  2016       1     12    25   31        1         0   \n",
       "4             1   2017  2017      11      9    19   28        0         1   \n",
       "\n",
       "   color  E2  E3  \n",
       "0      0   0   0  \n",
       "1      1   0   0  \n",
       "2      1   0   0  \n",
       "3      1   0   0  \n",
       "4      1   0   0  "
      ]
     },
     "execution_count": 70,
     "metadata": {},
     "output_type": "execute_result"
    }
   ],
   "source": [
    "df.head()\n"
   ]
  },
  {
   "cell_type": "code",
   "execution_count": null,
   "metadata": {},
   "outputs": [],
   "source": []
  },
  {
   "cell_type": "code",
   "execution_count": 89,
   "metadata": {},
   "outputs": [],
   "source": [
    "X=df.drop(['breed_category','pet_category','weekend','lday','day','month','lweekend','year','lmonth'],axis=1)\n",
    "y=df['breed_category']\n",
    "from sklearn.model_selection import train_test_split\n",
    "from sklearn.metrics import accuracy_score,f1_score\n",
    "\n",
    "X_train, X_test, y_train, y_test = train_test_split(X, y, test_size=0.2)\n",
    "from sklearn.preprocessing import StandardScaler\n",
    "sc = StandardScaler()\n",
    "X_train = sc.fit_transform(X_train)\n",
    "X_test = sc.transform(X_test)"
   ]
  },
  {
   "cell_type": "code",
   "execution_count": 90,
   "metadata": {},
   "outputs": [],
   "source": [
    "from sklearn.ensemble import RandomForestClassifier\n",
    "from xgboost.sklearn import XGBClassifier"
   ]
  },
  {
   "cell_type": "code",
   "execution_count": 91,
   "metadata": {},
   "outputs": [
    {
     "name": "stdout",
     "output_type": "stream",
     "text": [
      "Accuracy: 90.02%\n"
     ]
    }
   ],
   "source": [
    "clf_rf2 = RandomForestClassifier(\n",
    "    max_depth=12, \n",
    "    random_state=42,\n",
    "    n_estimators=500,\n",
    "    n_jobs=10000, criterion = 'entropy'\n",
    "    \n",
    ")\n",
    "\n",
    "clf_rf2.fit(X_train, y_train)\n",
    "y_pred = clf_rf2.predict(X_test)\n",
    "\n",
    "accuracy = accuracy_score(y_test, y_pred)\n",
    "print(\"Accuracy: %.2f%%\" % (accuracy * 100.0))"
   ]
  },
  {
   "cell_type": "code",
   "execution_count": 92,
   "metadata": {},
   "outputs": [
    {
     "data": {
      "text/plain": [
       "Index(['condition', 'color_type', 'length(m)', 'height(cm)', 'X1', 'X2',\n",
       "       'lyear', 'color', 'E2', 'E3'],\n",
       "      dtype='object')"
      ]
     },
     "execution_count": 92,
     "metadata": {},
     "output_type": "execute_result"
    }
   ],
   "source": [
    "X.columns"
   ]
  },
  {
   "cell_type": "code",
   "execution_count": 93,
   "metadata": {},
   "outputs": [
    {
     "data": {
      "text/plain": [
       "RandomForestClassifier(criterion='entropy', max_depth=12, n_estimators=500,\n",
       "                       n_jobs=10000, random_state=42)"
      ]
     },
     "execution_count": 93,
     "metadata": {},
     "output_type": "execute_result"
    }
   ],
   "source": [
    "clf_rf2.fit(X,y)"
   ]
  },
  {
   "cell_type": "code",
   "execution_count": 94,
   "metadata": {},
   "outputs": [],
   "source": [
    "z=pd.read_csv('test.csv')"
   ]
  },
  {
   "cell_type": "code",
   "execution_count": 95,
   "metadata": {},
   "outputs": [],
   "source": [
    "from datetime import datetime\n",
    "z['issue_date']=z['issue_date'].apply(lambda x : changeformat(x))\n",
    "z['listing_date']=z['listing_date'].apply(lambda x: changeformat(x))\n",
    "\n",
    "\n",
    "z.head()\n",
    "z['condition'].fillna(-1,inplace=True)\n",
    "from datetime import date\n",
    "z['date'] = pd.to_datetime(z['issue_date'])\n",
    "z['date1']=pd.to_datetime(z['listing_date'])\n",
    "z['lyear']=pd.DatetimeIndex(z['date1']).year\n",
    "z['year']=pd.DatetimeIndex(z['date']).year\n",
    "z['lmonth']=pd.DatetimeIndex(z['date1']).month\n",
    "z['month']=pd.DatetimeIndex(z['date']).month\n",
    "z['lday']=pd.DatetimeIndex(z['date1']).day\n",
    "z['day']=pd.DatetimeIndex(z['date']).day\n",
    "import datetime \n",
    "z['weekend']=z['issue_date'].apply(lambda x: findDay(x))\n",
    "z['lweekend']=z['listing_date'].apply(lambda x : findDay(x))\n",
    "z['weekend']=z['weekend'].apply(lambda x: check(x))\n",
    "z['lweekend']=z['lweekend'].apply(lambda x : check(x))\n",
    "z['E2']=z['color_type'].apply(lambda x: E12(x))\n",
    "z['E3']=z['color_type'].apply(lambda x: E13(x))"
   ]
  },
  {
   "cell_type": "code",
   "execution_count": 96,
   "metadata": {},
   "outputs": [],
   "source": [
    "r=[]\n",
    "for i in range(z.shape[0]):\n",
    "    if z['condition'][i] == -1:\n",
    "        r.append(z['pet_id'][i])"
   ]
  },
  {
   "cell_type": "code",
   "execution_count": 97,
   "metadata": {},
   "outputs": [],
   "source": [
    "z.head()\n",
    "z['color']=z['color_type'].apply(lambda x : changecolor(x))\n",
    "z['color_type']=z['color_type'].apply(lambda x : changecol(x))"
   ]
  },
  {
   "cell_type": "code",
   "execution_count": 98,
   "metadata": {},
   "outputs": [],
   "source": [
    "tes=z.drop(['pet_id', 'issue_date', 'listing_date',\n",
    "       'date', 'date1'],axis=1)"
   ]
  },
  {
   "cell_type": "code",
   "execution_count": 99,
   "metadata": {},
   "outputs": [
    {
     "data": {
      "text/plain": [
       "Index(['condition', 'color_type', 'length(m)', 'height(cm)', 'X1', 'X2',\n",
       "       'lyear', 'year', 'lmonth', 'month', 'lday', 'day', 'weekend',\n",
       "       'lweekend', 'E2', 'E3', 'color'],\n",
       "      dtype='object')"
      ]
     },
     "execution_count": 99,
     "metadata": {},
     "output_type": "execute_result"
    }
   ],
   "source": [
    "tes.columns"
   ]
  },
  {
   "cell_type": "code",
   "execution_count": 100,
   "metadata": {},
   "outputs": [
    {
     "data": {
      "text/plain": [
       "Index(['condition', 'color_type', 'length(m)', 'height(cm)', 'X1', 'X2',\n",
       "       'lyear', 'color', 'E2', 'E3'],\n",
       "      dtype='object')"
      ]
     },
     "execution_count": 100,
     "metadata": {},
     "output_type": "execute_result"
    }
   ],
   "source": [
    "X.columns"
   ]
  },
  {
   "cell_type": "code",
   "execution_count": 101,
   "metadata": {},
   "outputs": [],
   "source": [
    "pred1=tes.drop(['weekend','lday','day','month','lweekend','year','lmonth'],axis=1)\n",
    "pred=pred1.reindex(columns=['condition', 'color_type', 'length(m)', 'height(cm)', 'X1', 'X2',\n",
    "       'lyear', 'color', 'E2', 'E3'\n",
    "       ])"
   ]
  },
  {
   "cell_type": "code",
   "execution_count": 102,
   "metadata": {},
   "outputs": [],
   "source": [
    "tes['breed_category']=clf_rf2.predict(pred)"
   ]
  },
  {
   "cell_type": "code",
   "execution_count": 103,
   "metadata": {},
   "outputs": [
    {
     "name": "stderr",
     "output_type": "stream",
     "text": [
      "C:\\Users\\Niraj\\Anaconda3\\envs\\tensorenviron\\lib\\site-packages\\ipykernel_launcher.py:4: SettingWithCopyWarning: \n",
      "A value is trying to be set on a copy of a slice from a DataFrame\n",
      "\n",
      "See the caveats in the documentation: https://pandas.pydata.org/pandas-docs/stable/user_guide/indexing.html#returning-a-view-versus-a-copy\n",
      "  after removing the cwd from sys.path.\n"
     ]
    }
   ],
   "source": [
    "tes['pet_id']=z['pet_id']\n",
    "for i in range(tes.shape[0]):\n",
    "    if tes['pet_id'][i] in r:\n",
    "        tes['breed_category'][i]=2"
   ]
  },
  {
   "cell_type": "code",
   "execution_count": 104,
   "metadata": {},
   "outputs": [],
   "source": [
    "tes.to_csv(\"breed1.csv\",index=False)"
   ]
  },
  {
   "cell_type": "code",
   "execution_count": null,
   "metadata": {},
   "outputs": [],
   "source": []
  },
  {
   "cell_type": "code",
   "execution_count": null,
   "metadata": {},
   "outputs": [],
   "source": []
  },
  {
   "cell_type": "code",
   "execution_count": null,
   "metadata": {},
   "outputs": [],
   "source": []
  },
  {
   "cell_type": "code",
   "execution_count": null,
   "metadata": {},
   "outputs": [],
   "source": []
  },
  {
   "cell_type": "code",
   "execution_count": null,
   "metadata": {},
   "outputs": [],
   "source": []
  },
  {
   "cell_type": "code",
   "execution_count": 105,
   "metadata": {},
   "outputs": [],
   "source": [
    "import pandas as pd\n",
    "import numpy as np"
   ]
  },
  {
   "cell_type": "code",
   "execution_count": 106,
   "metadata": {},
   "outputs": [],
   "source": [
    "t1=pd.read_csv(\"train.csv\")"
   ]
  },
  {
   "cell_type": "code",
   "execution_count": 107,
   "metadata": {},
   "outputs": [
    {
     "data": {
      "text/html": [
       "<div>\n",
       "<style scoped>\n",
       "    .dataframe tbody tr th:only-of-type {\n",
       "        vertical-align: middle;\n",
       "    }\n",
       "\n",
       "    .dataframe tbody tr th {\n",
       "        vertical-align: top;\n",
       "    }\n",
       "\n",
       "    .dataframe thead th {\n",
       "        text-align: right;\n",
       "    }\n",
       "</style>\n",
       "<table border=\"1\" class=\"dataframe\">\n",
       "  <thead>\n",
       "    <tr style=\"text-align: right;\">\n",
       "      <th></th>\n",
       "      <th>pet_id</th>\n",
       "      <th>issue_date</th>\n",
       "      <th>listing_date</th>\n",
       "      <th>condition</th>\n",
       "      <th>color_type</th>\n",
       "      <th>length(m)</th>\n",
       "      <th>height(cm)</th>\n",
       "      <th>X1</th>\n",
       "      <th>X2</th>\n",
       "      <th>breed_category</th>\n",
       "      <th>pet_category</th>\n",
       "    </tr>\n",
       "  </thead>\n",
       "  <tbody>\n",
       "    <tr>\n",
       "      <th>0</th>\n",
       "      <td>ANSL_69903</td>\n",
       "      <td>2016-07-10</td>\n",
       "      <td>2016-09-21</td>\n",
       "      <td>2.0</td>\n",
       "      <td>Brown Tabby</td>\n",
       "      <td>0.80</td>\n",
       "      <td>7.78</td>\n",
       "      <td>13</td>\n",
       "      <td>9</td>\n",
       "      <td>0.0</td>\n",
       "      <td>1</td>\n",
       "    </tr>\n",
       "    <tr>\n",
       "      <th>1</th>\n",
       "      <td>ANSL_66892</td>\n",
       "      <td>2013-11-21</td>\n",
       "      <td>2018-12-27</td>\n",
       "      <td>1.0</td>\n",
       "      <td>White</td>\n",
       "      <td>0.72</td>\n",
       "      <td>14.19</td>\n",
       "      <td>13</td>\n",
       "      <td>9</td>\n",
       "      <td>0.0</td>\n",
       "      <td>2</td>\n",
       "    </tr>\n",
       "    <tr>\n",
       "      <th>2</th>\n",
       "      <td>ANSL_69750</td>\n",
       "      <td>2014-09-28</td>\n",
       "      <td>2016-10-19</td>\n",
       "      <td>NaN</td>\n",
       "      <td>Brown</td>\n",
       "      <td>0.15</td>\n",
       "      <td>40.90</td>\n",
       "      <td>15</td>\n",
       "      <td>4</td>\n",
       "      <td>2.0</td>\n",
       "      <td>4</td>\n",
       "    </tr>\n",
       "    <tr>\n",
       "      <th>3</th>\n",
       "      <td>ANSL_71623</td>\n",
       "      <td>2016-12-31</td>\n",
       "      <td>2019-01-25</td>\n",
       "      <td>1.0</td>\n",
       "      <td>White</td>\n",
       "      <td>0.62</td>\n",
       "      <td>17.82</td>\n",
       "      <td>0</td>\n",
       "      <td>1</td>\n",
       "      <td>0.0</td>\n",
       "      <td>2</td>\n",
       "    </tr>\n",
       "    <tr>\n",
       "      <th>4</th>\n",
       "      <td>ANSL_57969</td>\n",
       "      <td>2017-09-28</td>\n",
       "      <td>2017-11-19</td>\n",
       "      <td>2.0</td>\n",
       "      <td>Black</td>\n",
       "      <td>0.50</td>\n",
       "      <td>11.06</td>\n",
       "      <td>18</td>\n",
       "      <td>4</td>\n",
       "      <td>0.0</td>\n",
       "      <td>1</td>\n",
       "    </tr>\n",
       "  </tbody>\n",
       "</table>\n",
       "</div>"
      ],
      "text/plain": [
       "       pet_id  issue_date listing_date  condition   color_type  length(m)  \\\n",
       "0  ANSL_69903  2016-07-10   2016-09-21        2.0  Brown Tabby       0.80   \n",
       "1  ANSL_66892  2013-11-21   2018-12-27        1.0        White       0.72   \n",
       "2  ANSL_69750  2014-09-28   2016-10-19        NaN        Brown       0.15   \n",
       "3  ANSL_71623  2016-12-31   2019-01-25        1.0        White       0.62   \n",
       "4  ANSL_57969  2017-09-28   2017-11-19        2.0        Black       0.50   \n",
       "\n",
       "   height(cm)  X1  X2  breed_category  pet_category  \n",
       "0        7.78  13   9             0.0             1  \n",
       "1       14.19  13   9             0.0             2  \n",
       "2       40.90  15   4             2.0             4  \n",
       "3       17.82   0   1             0.0             2  \n",
       "4       11.06  18   4             0.0             1  "
      ]
     },
     "execution_count": 107,
     "metadata": {},
     "output_type": "execute_result"
    }
   ],
   "source": [
    "from datetime import datetime\n",
    "def changeformat(y):\n",
    "    x=datetime.strptime(y, '%Y-%m-%d %H:%M:%S').strftime('%Y-%m-%d')\n",
    "    return x\n",
    "t1['issue_date']=t1['issue_date'].apply(lambda x : changeformat(x))\n",
    "t1['listing_date']=t1['listing_date'].apply(lambda x: changeformat(x))\n",
    "\n",
    "\n",
    "t1.head()"
   ]
  },
  {
   "cell_type": "code",
   "execution_count": 108,
   "metadata": {},
   "outputs": [],
   "source": [
    "from datetime import date\n",
    "t1['date'] = pd.to_datetime(t1['issue_date'])\n",
    "t1['date1']=pd.to_datetime(t1['listing_date'])"
   ]
  },
  {
   "cell_type": "code",
   "execution_count": 109,
   "metadata": {},
   "outputs": [],
   "source": [
    "t1['lyear']=pd.DatetimeIndex(t1['date1']).year\n",
    "t1['year']=pd.DatetimeIndex(t1['date']).year\n",
    "t1['lmonth']=pd.DatetimeIndex(t1['date1']).month\n",
    "t1['month']=pd.DatetimeIndex(t1['date']).month\n",
    "t1['lday']=pd.DatetimeIndex(t1['date1']).day\n",
    "t1['day']=pd.DatetimeIndex(t1['date']).day"
   ]
  },
  {
   "cell_type": "code",
   "execution_count": 110,
   "metadata": {},
   "outputs": [],
   "source": [
    "import datetime \n",
    "import calendar \n",
    "  \n",
    "def findDay(date): \n",
    "    born = datetime.datetime.strptime((date), '%Y-%m-%d').weekday() \n",
    "    return (calendar.day_name[born])\n",
    "t1['weekend']=t1['issue_date'].apply(lambda x: findDay(x))\n",
    "t1['lweekend']=t1['listing_date'].apply(lambda x : findDay(x))"
   ]
  },
  {
   "cell_type": "code",
   "execution_count": 111,
   "metadata": {},
   "outputs": [],
   "source": [
    "t1['weekend']=t1['issue_date'].apply(lambda x: findDay(x))\n",
    "t1['lweekend']=t1['listing_date'].apply(lambda x : findDay(x))\n",
    "\n",
    "def check(day):\n",
    "    days=['Sunday','Saturday']\n",
    "    if day in days:\n",
    "        return 1\n",
    "    else:\n",
    "        return 0\n",
    "t1['weekend']=t1['weekend'].apply(lambda x: check(x))\n",
    "t1['lweekend']=t1['lweekend'].apply(lambda x : check(x))"
   ]
  },
  {
   "cell_type": "code",
   "execution_count": 112,
   "metadata": {},
   "outputs": [],
   "source": [
    "def changecolor(i):\n",
    "    m1=['Brown','Black','Tricolor','Calico','Blue','Tortie', 'Gray','Torbie','Sable', 'Chocolate','Green','Buff','Red','Tan', 'Orange','Gold', \n",
    "      'Apricot','Liver', 'Agouti','Yellow', 'Pink','White', 'Fawn','Cream', 'Silver',]\n",
    "    m2=['Brown Tabby','Brown Brindle','Blue Tick','Blue Tabby', 'Black Tabby','Orange Tabby', 'Red Merle', 'Yellow Brindle','Red Tick',  'Liver Tick',\n",
    "       'Black Brindle','Calico Point','Blue Merle', 'Blue Tiger','Seal Point',  'Brown Merle', 'Black Smoke',\n",
    "       'Gray Tabby', 'Tortie Point', 'Blue Smoke', 'Blue Point', 'Brown Tiger','Chocolate Point','Cream Tabby','Lynx Point', 'Blue Cream',\n",
    "       'Flame Point', 'Silver Tabby','Lilac Point','Silver Lynx Point']\n",
    "    if i in m1:\n",
    "        return 1\n",
    "    else:\n",
    "        return 0\n",
    "t1['color']=t1['color_type'].apply(lambda x : changecolor(x))"
   ]
  },
  {
   "cell_type": "code",
   "execution_count": 113,
   "metadata": {},
   "outputs": [],
   "source": [
    "d1=t1.color_type[t1['breed_category']==1].unique()\n",
    "d2=t1.color_type[t1['breed_category']==2].unique()\n",
    "d3=t1.color_type[t1['breed_category']==0].unique()\n",
    "len(d3)\n",
    "d4=[]\n",
    "for i in d1:\n",
    "    if i not in d3:\n",
    "        d4.append(i)\n",
    "d5=[]\n",
    "for i in d3:\n",
    "    if i not in  d2:\n",
    "        d5.append(i)\n",
    "p1=t1.color_type[t1['pet_category']==1].unique()\n",
    "p4=t1.color_type[t1['pet_category']==4].unique()\n",
    "p2=t1.color_type[t1['pet_category']==2].unique()\n",
    "p0=t1.color_type[t1['pet_category']==0].unique()\n",
    "len(p1)\n",
    "p5=[]\n",
    "for i in p2:\n",
    "    if i not in p1:\n",
    "        p5.append(i)\n",
    "len(p5)\n",
    "p6=[]\n",
    "for i in p1:\n",
    "    if i not in p4:\n",
    "        p6.append(i)\n",
    "p7=[]\n",
    "for i in p2:\n",
    "    if i not in p4:\n",
    "        p7.append(i)\n",
    "p8=[]\n",
    "for i in p1:\n",
    "    if i not in p0:\n",
    "        p8.append(i)\n"
   ]
  },
  {
   "cell_type": "code",
   "execution_count": 114,
   "metadata": {},
   "outputs": [],
   "source": [
    "def E11(x):\n",
    "    if x in p0:\n",
    "        return 1\n",
    "    else:\n",
    "        return 0\n",
    "def E12(x):\n",
    "    if x in p5:\n",
    "        return 1\n",
    "    else:\n",
    "        return 0\n",
    "def E13(x):\n",
    "    if x in p6:\n",
    "        return 1\n",
    "    else:\n",
    "        return 0\n",
    "def E15(x):\n",
    "    if x in p7:\n",
    "        return 1\n",
    "    else:\n",
    "        return 0\n",
    "def E16(x):\n",
    "    if x in p1:\n",
    "        return 1\n",
    "    else:\n",
    "        return 0\n",
    "def D11(x):\n",
    "    if x in d4:\n",
    "        return 1\n",
    "    else:\n",
    "        return 0\n",
    "def D12(x):\n",
    "    if x in d5:\n",
    "        return 1\n",
    "    else:\n",
    "        return 0\n",
    "def E14(x):\n",
    "    if x in p4:\n",
    "        return 1\n",
    "    else:\n",
    "        return 0\n",
    "def D13(x):\n",
    "    if x in d2:\n",
    "        return 1\n",
    "    else:\n",
    "        return 0\n",
    "def E18(x):\n",
    "    if x in p8:\n",
    "        return 1\n",
    "    else:\n",
    "        return 0\n",
    "    "
   ]
  },
  {
   "cell_type": "code",
   "execution_count": 115,
   "metadata": {},
   "outputs": [],
   "source": [
    "t1['E1']=t1['color_type'].apply(lambda x : E11(x))\n",
    "t1['E2']=t1['color_type'].apply(lambda x: E12(x))\n",
    "t1['E3']=t1['color_type'].apply(lambda x: E13(x))\n",
    "t1['E4']=t1['color_type'].apply(lambda x:E14(x))\n",
    "t1['E5']=t1['color_type'].apply(lambda x:E15(x))\n",
    "t1['E6']=t1['color_type'].apply(lambda x: E16(x))\n",
    "#t1['E8']=t1['color_type'].apply(lambda x: E18(x))\n",
    "t1['D1']=t1['color_type'].apply(lambda x: D11(x))\n",
    "t1['D2']=t1['color_type'].apply(lambda x: D12(x))\n",
    "t1['D3']=t1['color_type'].apply(lambda x: D13(x))"
   ]
  },
  {
   "cell_type": "code",
   "execution_count": 116,
   "metadata": {},
   "outputs": [],
   "source": [
    "brown=['Brown','Brown Brindle','Sable','Chocolate', 'Black Tabby','Black Brindle','Black', 'Brown Merle', 'Black Smoke',\n",
    "       'Lilac Point','Liver','Chocolate Point', 'Liver Tick']\n",
    "mixed=[ 'Calico', 'Tortie', 'Torbie','Calico Point','Lynx Point', 'Blue Cream','Blue Tiger',\n",
    "       'Seal Point','Tortie Point', 'Agouti' ]\n",
    "red=['Brown Tabby','Red', 'Tricolor','Buff','Gold','Apricot',\n",
    "     'Red Merle', 'Yellow Brindle', 'Yellow','Pink','Red Tick','Flame Point',  'Orange','Orange Tabby','Tan']\n",
    "\n",
    "grey=['Blue','Gray','Blue Tick', 'Blue Tabby','Blue Merle',  'Gray Tabby', 'Green', 'Blue Smoke','Blue Point', 'Silver Tabby',\n",
    "     'Silver','Silver Lynx Point']\n",
    "hard=['Brown','White','Black','Black Tabby','Brown Tabby']\n",
    "Extra=['Brown','Brown Brindle','Sable','Chocolate', 'Black Tabby','Black Brindle','Black', 'Brown Merle', 'Black Smoke',\n",
    "      'Brown Tabby','Yellow','Flame Point',  'Orange','Orange Tabby','Tan','White','Fawn','Cream Tabby','Cream','Blue Tabby','Blue Merle',\n",
    "      ]\n",
    "def blacky(i):\n",
    "    if i in brown:\n",
    "        return 1\n",
    "    else :\n",
    "        return 0\n",
    "def extras(i):\n",
    "    if i in Extra:\n",
    "        return 1\n",
    "    else: \n",
    "        return 0\n",
    "def mixedy(i):\n",
    "    if i in mixed:\n",
    "        return 1\n",
    "    else :\n",
    "        return 0\n",
    "def redy(i):\n",
    "    if i in red:\n",
    "        return 1\n",
    "    else :\n",
    "        return 0\n",
    "\n",
    "def greyy(i):\n",
    "    if i in grey:\n",
    "        return 1\n",
    "    else :\n",
    "        return 0\n",
    "def hardd(i):\n",
    "    if i in hard:\n",
    "        return 1\n",
    "    else:\n",
    "        return 0\n",
    "t1['Extra']=t1['color_type'].apply(lambda x : extras(x))\n",
    "t1['Hard']=t1['color_type'].apply(lambda x: hardd(x))\n",
    "t1['black']=t1['color_type'].apply(lambda x: blacky(x))\n",
    "t1['mix']=t1['color_type'].apply(lambda x: mixedy(x))\n",
    "t1['red']=t1['color_type'].apply(lambda x: redy(x))\n",
    "\n",
    "t1['grey']=t1['color_type'].apply(lambda x: greyy(x))"
   ]
  },
  {
   "cell_type": "code",
   "execution_count": 117,
   "metadata": {},
   "outputs": [],
   "source": [
    "def changecol(i):\n",
    "    black=['Brown Tabby', 'White', 'Brown', 'Black', 'Red','Brown Tiger', 'Liver', 'Agouti', 'Chocolate Point', 'Liver Tick',\n",
    "       'Pink', 'Black Tiger', 'Silver Lynx Point', 'Lilac Point', 'Silver', 'Silver Tabby']\n",
    "    red=[ 'Tricolor',\n",
    "       'Calico', 'Brown Brindle', 'Blue', 'Tortie', 'Gray', 'Fawn',\n",
    "       'Buff', 'Torbie', 'Orange Tabby', 'Sable', 'Tan', 'Blue Tick',\n",
    "       'Orange', 'Blue Tabby', 'Chocolate']\n",
    "    white=['Black Tabby',\n",
    "       'Black Brindle', 'Cream Tabby', 'Gold', 'Calico Point',\n",
    "       'Blue Merle', 'Red Merle', 'Yellow', 'Lynx Point', 'Blue Cream',\n",
    "       'Flame Point', 'Cream', 'Yellow Brindle', 'Blue Tiger',\n",
    "       'Seal Point', 'Red Tick', 'Brown Merle', 'Black Smoke',\n",
    "       'Gray Tabby', 'Green', 'Tortie Point', 'Blue Smoke', 'Apricot',\n",
    "       'Blue Point']\n",
    "    if i in black:\n",
    "        return 2\n",
    "    if i in red:\n",
    "        return 1\n",
    "    if i in white:\n",
    "        return 0\n",
    "    \n",
    "t1['color_type']=t1['color_type'].apply(lambda x : changecol(x))"
   ]
  },
  {
   "cell_type": "code",
   "execution_count": 118,
   "metadata": {},
   "outputs": [],
   "source": [
    "df=t1.drop(['pet_id', 'issue_date', 'listing_date',\n",
    "       'date', 'date1'],axis=1)"
   ]
  },
  {
   "cell_type": "code",
   "execution_count": 119,
   "metadata": {},
   "outputs": [],
   "source": [
    "df.head()\n",
    "def seas(i):\n",
    "    if i>=3 and i<=8:\n",
    "        return 0\n",
    "    else:\n",
    "        return 1\n",
    "df['Season']=df['lmonth'].apply(lambda x :seas(x))"
   ]
  },
  {
   "cell_type": "code",
   "execution_count": 120,
   "metadata": {},
   "outputs": [],
   "source": [
    "df['yeardif']=df['lyear']-df['year']\n",
    "df['monthdif']=abs(df['lmonth']-df['month'])\n",
    "def mon(i):\n",
    "    if i>=6:\n",
    "        return 1\n",
    "    else:\n",
    "        return 0\n",
    "df['monthdif']=df['monthdif'].apply(lambda x : mon(x))"
   ]
  },
  {
   "cell_type": "code",
   "execution_count": 121,
   "metadata": {},
   "outputs": [],
   "source": [
    "def year(i):\n",
    "    if i>2.0:\n",
    "        return 1\n",
    "    else :\n",
    "        return 0\n",
    "df['yeardiff']=df['yeardif'].apply(lambda x : year(x))\n",
    "def x1(i):\n",
    "    if i>13 or i==0 or i==13:\n",
    "        return 1\n",
    "    else:\n",
    "        return 0\n",
    "df[\"X3\"]=df['X1'].apply(lambda x : x1(x))\n",
    "def leng(i):\n",
    "    if i<0.3 :\n",
    "        return 1\n",
    "    elif i>=0.3 and i<=0.65:\n",
    "        return 2\n",
    "    else:\n",
    "        return 0\n",
    "df['length(m)']=df['length(m)'].apply(lambda x: leng(x))"
   ]
  },
  {
   "cell_type": "code",
   "execution_count": 122,
   "metadata": {},
   "outputs": [],
   "source": [
    "from sklearn.impute import SimpleImputer \n",
    "  \n",
    "# Imputer object using the mean strategy and  \n",
    "# missing_values type for imputation \n",
    "imputer = SimpleImputer(missing_values = np.nan,  \n",
    "                        strategy ='median')\n",
    "c=df.columns"
   ]
  },
  {
   "cell_type": "code",
   "execution_count": 123,
   "metadata": {},
   "outputs": [],
   "source": [
    "imputer = imputer.fit(df) \n",
    "data = imputer.transform(df) "
   ]
  },
  {
   "cell_type": "code",
   "execution_count": 124,
   "metadata": {},
   "outputs": [],
   "source": [
    "train=pd.DataFrame(data,columns=c)"
   ]
  },
  {
   "cell_type": "code",
   "execution_count": 125,
   "metadata": {},
   "outputs": [
    {
     "data": {
      "text/plain": [
       "condition         0\n",
       "color_type        0\n",
       "length(m)         0\n",
       "height(cm)        0\n",
       "X1                0\n",
       "X2                0\n",
       "breed_category    0\n",
       "pet_category      0\n",
       "lyear             0\n",
       "year              0\n",
       "lmonth            0\n",
       "month             0\n",
       "lday              0\n",
       "day               0\n",
       "weekend           0\n",
       "lweekend          0\n",
       "color             0\n",
       "E1                0\n",
       "E2                0\n",
       "E3                0\n",
       "E4                0\n",
       "E5                0\n",
       "E6                0\n",
       "D1                0\n",
       "D2                0\n",
       "D3                0\n",
       "Extra             0\n",
       "Hard              0\n",
       "black             0\n",
       "mix               0\n",
       "red               0\n",
       "grey              0\n",
       "Season            0\n",
       "yeardif           0\n",
       "monthdif          0\n",
       "yeardiff          0\n",
       "X3                0\n",
       "dtype: int64"
      ]
     },
     "execution_count": 125,
     "metadata": {},
     "output_type": "execute_result"
    }
   ],
   "source": [
    "train.isnull().sum()"
   ]
  },
  {
   "cell_type": "code",
   "execution_count": 140,
   "metadata": {},
   "outputs": [],
   "source": [
    "X=train.drop(['pet_category','height(cm)','weekend','lweekend','Hard','grey','E6'\n",
    "             ],axis=1)\n",
    "y=train['pet_category']\n",
    "from sklearn.model_selection import train_test_split\n",
    "from sklearn.metrics import accuracy_score,f1_score\n",
    "\n",
    "X_train, X_test, y_train, y_test = train_test_split(X, y, test_size=0.2)\n",
    "from sklearn.preprocessing import StandardScaler\n",
    "sc = StandardScaler()\n",
    "X_train = sc.fit_transform(X_train)\n",
    "X_test = sc.transform(X_test)"
   ]
  },
  {
   "cell_type": "code",
   "execution_count": 141,
   "metadata": {},
   "outputs": [
    {
     "name": "stdout",
     "output_type": "stream",
     "text": [
      "Accuracy: 88.80%\n"
     ]
    }
   ],
   "source": [
    "from sklearn.ensemble import RandomForestClassifier\n",
    "\n",
    "clf_rf = RandomForestClassifier(\n",
    "    max_depth=10, \n",
    "    random_state=42,\n",
    "    n_estimators=500,\n",
    "    n_jobs=10000, criterion = 'entropy'\n",
    "    \n",
    ")\n",
    "\n",
    "clf_rf.fit(X_train, y_train)\n",
    "y_pred = clf_rf.predict(X_test)\n",
    "\n",
    "accuracy = accuracy_score(y_test, y_pred)\n",
    "print(\"Accuracy: %.2f%%\" % (accuracy * 100.0))"
   ]
  },
  {
   "cell_type": "code",
   "execution_count": 142,
   "metadata": {},
   "outputs": [
    {
     "name": "stdout",
     "output_type": "stream",
     "text": [
      "Accuracy: 90.15%\n"
     ]
    }
   ],
   "source": [
    "from xgboost.sklearn import XGBClassifier\n",
    "xbg=XGBClassifier(n_estimators=100,max_depth=8,n_jobs=10)\n",
    "xbg.fit(X_train,y_train)\n",
    "y_pred = xbg.predict(X_test)\n",
    "\n",
    "accuracy = accuracy_score(y_test, y_pred)\n",
    "print(\"Accuracy: %.2f%%\" % (accuracy * 100.0))\n"
   ]
  },
  {
   "cell_type": "code",
   "execution_count": 143,
   "metadata": {},
   "outputs": [
    {
     "data": {
      "text/plain": [
       "XGBClassifier(base_score=0.5, booster='gbtree', colsample_bylevel=1,\n",
       "              colsample_bynode=1, colsample_bytree=1, gamma=0, gpu_id=-1,\n",
       "              importance_type='gain', interaction_constraints='',\n",
       "              learning_rate=0.300000012, max_delta_step=0, max_depth=8,\n",
       "              min_child_weight=1, missing=nan, monotone_constraints='()',\n",
       "              n_estimators=100, n_jobs=10, num_parallel_tree=1,\n",
       "              objective='multi:softprob', random_state=0, reg_alpha=0,\n",
       "              reg_lambda=1, scale_pos_weight=None, subsample=1,\n",
       "              tree_method='exact', validate_parameters=1, verbosity=None)"
      ]
     },
     "execution_count": 143,
     "metadata": {},
     "output_type": "execute_result"
    }
   ],
   "source": [
    "xbg.fit(X,y)"
   ]
  },
  {
   "cell_type": "code",
   "execution_count": 144,
   "metadata": {},
   "outputs": [
    {
     "data": {
      "text/plain": [
       "Index(['condition', 'color_type', 'length(m)', 'X1', 'X2', 'breed_category',\n",
       "       'lyear', 'year', 'lmonth', 'month', 'lday', 'day', 'color', 'E1', 'E2',\n",
       "       'E3', 'E4', 'E5', 'D1', 'D2', 'D3', 'Extra', 'black', 'mix', 'red',\n",
       "       'Season', 'yeardif', 'monthdif', 'yeardiff', 'X3'],\n",
       "      dtype='object')"
      ]
     },
     "execution_count": 144,
     "metadata": {},
     "output_type": "execute_result"
    }
   ],
   "source": [
    "X.columns"
   ]
  },
  {
   "cell_type": "code",
   "execution_count": 145,
   "metadata": {},
   "outputs": [],
   "source": [
    "z=pd.read_csv('test.csv')"
   ]
  },
  {
   "cell_type": "code",
   "execution_count": 146,
   "metadata": {},
   "outputs": [],
   "source": [
    "from datetime import datetime\n",
    "z['issue_date']=z['issue_date'].apply(lambda x : changeformat(x))\n",
    "z['listing_date']=z['listing_date'].apply(lambda x: changeformat(x))\n",
    "from datetime import date\n",
    "z['date'] = pd.to_datetime(z['issue_date'])\n",
    "z['date1']=pd.to_datetime(z['listing_date'])\n",
    "z['lyear']=pd.DatetimeIndex(z['date1']).year\n",
    "z['year']=pd.DatetimeIndex(z['date']).year\n",
    "z['lmonth']=pd.DatetimeIndex(z['date1']).month\n",
    "z['month']=pd.DatetimeIndex(z['date']).month\n",
    "z['lday']=pd.DatetimeIndex(z['date1']).day\n",
    "z['day']=pd.DatetimeIndex(z['date']).day\n",
    "import datetime \n",
    "z['weekend']=z['issue_date'].apply(lambda x: findDay(x))\n",
    "z['lweekend']=z['listing_date'].apply(lambda x : findDay(x))\n",
    "z['weekend']=z['weekend'].apply(lambda x: check(x))\n",
    "z['lweekend']=z['lweekend'].apply(lambda x : check(x))\n",
    "z['E1']=z['color_type'].apply(lambda x : E11(x))\n",
    "z['E2']=z['color_type'].apply(lambda x: E12(x))\n",
    "z['E3']=z['color_type'].apply(lambda x: E13(x))\n",
    "z['E4']=z['color_type'].apply(lambda x:E14(x))\n",
    "z['E6']=z['color_type'].apply(lambda x: E16(x))\n",
    "z['D3']=z['color_type'].apply(lambda x: D13(x))\n",
    "z['D1']=z['color_type'].apply(lambda x: D11(x))\n",
    "z['D2']=z['color_type'].apply(lambda x: D12(x))\n",
    "z['E5']=z['color_type'].apply(lambda x:E15(x))\n",
    "z['Season']=z['lmonth'].apply(lambda x :seas(x))\n",
    "z['yeardif']=z['lyear']-z['year']\n",
    "z['monthdif']=abs(z['lmonth']-z['month'])\n",
    "z['yeardiff']=z['yeardif'].apply(lambda x : year(x))\n",
    "z['monthdif']=z['monthdif'].apply(lambda x : year(x))\n",
    "z['Extra']=z['color_type'].apply(lambda x : extras(x))\n",
    "z['Hard']=z['color_type'].apply(lambda x: hardd(x))\n",
    "z['black']=z['color_type'].apply(lambda x: blacky(x))\n",
    "z['mix']=z['color_type'].apply(lambda x: mixedy(x))\n",
    "z['red']=z['color_type'].apply(lambda x: redy(x))\n",
    "z['X3']=z['X1'].apply(lambda x: x1(x))\n",
    "z['grey']=z['color_type'].apply(lambda x: greyy(x))\n",
    "z['length(m)']=z['length(m)'].apply(lambda x: leng(x))"
   ]
  },
  {
   "cell_type": "code",
   "execution_count": 147,
   "metadata": {},
   "outputs": [],
   "source": [
    "b=pd.read_csv('breed1.csv')"
   ]
  },
  {
   "cell_type": "code",
   "execution_count": 148,
   "metadata": {},
   "outputs": [],
   "source": [
    "z['breed_category']=b['breed_category']"
   ]
  },
  {
   "cell_type": "code",
   "execution_count": 149,
   "metadata": {},
   "outputs": [],
   "source": [
    "tes=z.drop(['pet_id', 'issue_date', 'listing_date',\n",
    "       'date', 'date1'],axis=1)"
   ]
  },
  {
   "cell_type": "code",
   "execution_count": 150,
   "metadata": {},
   "outputs": [],
   "source": [
    "tes=tes.drop(['height(cm)','weekend','lweekend','Hard','grey','E6'],axis=1)"
   ]
  },
  {
   "cell_type": "code",
   "execution_count": 151,
   "metadata": {},
   "outputs": [],
   "source": [
    "tes['color']=tes['color_type'].apply(lambda x : changecolor(x))\n",
    "tes['color_type']=tes['color_type'].apply(lambda x : changecol(x))"
   ]
  },
  {
   "cell_type": "code",
   "execution_count": 152,
   "metadata": {},
   "outputs": [],
   "source": [
    "d=tes.columns"
   ]
  },
  {
   "cell_type": "code",
   "execution_count": 153,
   "metadata": {},
   "outputs": [],
   "source": [
    "imputer = imputer.fit(tes) \n",
    "test=imputer.transform(tes)"
   ]
  },
  {
   "cell_type": "code",
   "execution_count": 154,
   "metadata": {},
   "outputs": [],
   "source": [
    "test=pd.DataFrame(test,columns=d)"
   ]
  },
  {
   "cell_type": "code",
   "execution_count": 155,
   "metadata": {},
   "outputs": [],
   "source": [
    "test=test.reindex(columns=[ 'condition', 'color_type', 'length(m)', 'X1', 'X2', 'breed_category',\n",
    "       'lyear', 'year', 'lmonth', 'month', 'lday', 'day', 'color', 'E1', 'E2',\n",
    "       'E3', 'E4', 'E5', 'D1', 'D2', 'D3', 'Extra', 'black', 'mix', 'red',\n",
    "       'Season', 'yeardif', 'monthdif', 'yeardiff', 'X3'])"
   ]
  },
  {
   "cell_type": "code",
   "execution_count": 156,
   "metadata": {},
   "outputs": [],
   "source": [
    "pred=xbg.predict(test)"
   ]
  },
  {
   "cell_type": "code",
   "execution_count": 157,
   "metadata": {},
   "outputs": [],
   "source": [
    "check=pd.DataFrame()"
   ]
  },
  {
   "cell_type": "code",
   "execution_count": 158,
   "metadata": {},
   "outputs": [],
   "source": [
    "check['pet_id']=z['pet_id']\n",
    "check['breed_category']=test['breed_category']\n",
    "check['pet_category']=pred\n",
    "check.to_csv(\"finaly.csv\",index=False)"
   ]
  },
  {
   "cell_type": "code",
   "execution_count": null,
   "metadata": {},
   "outputs": [],
   "source": []
  }
 ],
 "metadata": {
  "kernelspec": {
   "display_name": "Python 3",
   "language": "python",
   "name": "python3"
  },
  "language_info": {
   "codemirror_mode": {
    "name": "ipython",
    "version": 3
   },
   "file_extension": ".py",
   "mimetype": "text/x-python",
   "name": "python",
   "nbconvert_exporter": "python",
   "pygments_lexer": "ipython3",
   "version": "3.7.7"
  }
 },
 "nbformat": 4,
 "nbformat_minor": 4
}
